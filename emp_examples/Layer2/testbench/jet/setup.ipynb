{
 "cells": [
  {
   "cell_type": "code",
   "execution_count": 1,
   "metadata": {},
   "outputs": [],
   "source": [
    "import uproot\n",
    "import numpy as np\n",
    "import bitstring\n",
    "import pandas\n",
    "import matplotlib.pyplot as plt"
   ]
  },
  {
   "cell_type": "code",
   "execution_count": 2,
   "metadata": {},
   "outputs": [],
   "source": [
    "class Regions:\n",
    "    '''A simplistic region maker (not realistic)'''\n",
    "    def __init__(self, eta_max, n_eta, n_phi):\n",
    "        self.phi = np.linspace(-np.pi, np.pi, n_phi)\n",
    "        self.eta = np.linspace(-eta_max, eta_max, n_eta)\n",
    "        \n",
    "    def iRegion(self, cand, debug=False):\n",
    "        '''Get the (iEta, iPhi) of the candidate'''\n",
    "        wherePhi = np.argwhere((cand.phi >= self.phi) & (cand.phi < np.roll(self.phi, -1)))\n",
    "        whereEta = np.argwhere((cand.eta >= self.eta) & (cand.eta < np.roll(self.eta, -1)))\n",
    "        if len(wherePhi)>0 and len(whereEta)>0:\n",
    "            iPhi = wherePhi[0][0]\n",
    "            iEta = whereEta[0][0]\n",
    "            return (iEta, iPhi) \n",
    "        else:\n",
    "            if debug:\n",
    "                print(\"Candidate \" + str(cand) + \" has no region\")\n",
    "            return False\n",
    "    \n",
    "    def regionize(self, event_candidates, sort=True):\n",
    "        '''Get the particles within the regions'''\n",
    "        region_candidates = [[[] for i in range(len(self.phi))] for j in range(len(self.eta))]\n",
    "        for candidate in event_candidates:\n",
    "            iR = self.iRegion(candidate)\n",
    "            if iR:\n",
    "                iEta, iPhi = iR[0], iR[1]\n",
    "                region_candidates[iEta][iPhi].append(candidate)\n",
    "        if sort:\n",
    "            for iEta, regions_eta in enumerate(region_candidates):\n",
    "                for iPhi, region in enumerate(regions_eta):\n",
    "                    region_candidates[iEta][iPhi] = sorted(region, key=PuppiCand.pt)\n",
    "        return region_candidates\n",
    "\n",
    "class DemoRegions(Regions):\n",
    "    '''An extension of the Regions class closer to the 6 board correlator demonstrator'''\n",
    "    def __init__(self):\n",
    "        super().__init__(3.5, 12, 9)\n",
    "        \n",
    "    def pack_event(self, pups, startframe=0, mux=False):\n",
    "        return self.pack_event_mux(pups, startframe) if mux else \\\n",
    "               self.pack_event_nomux(pups, startframe)\n",
    "        \n",
    "    def pack_event_nomux(self, pups, startframe=0):\n",
    "        '''Return frames of a PatternFile for the unregionized event pups.\n",
    "        Doesn't treate the regions in a specific order, just groups them in appropriate numbers.'''\n",
    "        zeropup = PuppiCand(0,0,0).toVHex(True)\n",
    "        pups = np.array(self.regionize(pups, sort=True)).flatten()\n",
    "        # 18 links per 6 regions (frames), 16 candidates per region\n",
    "        # 20 appears because of the link_map SLR handling\n",
    "        muxed_cands = [[0 for i in range(6 * 16)] for j in range(18)]\n",
    "        # Loop over 'layer 1 boards' (equivalent)\n",
    "        for i in range(6):\n",
    "            # Loop over regions in board\n",
    "            for j in range(18):\n",
    "                # Loop over particles in region\n",
    "                pups_r = pups[18 * i + j]\n",
    "                for k in range(16):\n",
    "                    if k < len(pups_r):\n",
    "                        pup = pups_r[k].toVHex(True)\n",
    "                    else:\n",
    "                        pup = zeropup\n",
    "                    muxed_cands[j][16 * i + k] = pup\n",
    "        for i, f in enumerate(muxed_cands):\n",
    "            yield frame(f, startframe+i, 6*16)\n",
    "        \n",
    "    def pack_event_mux(self, pups, startframe=0):\n",
    "        '''Return frames of a PatternFile for the unregionized event pups.\n",
    "           Doesn't treate the regions in a specific order, just groups them in appropriate numbers.\n",
    "           Muxes 18 particles per region into 6 links over 3 frames'''\n",
    "        zeropup = PuppiCand(0,0,0).toVHex(True)\n",
    "        pups = np.array(self.regionize(pups, sort=True)).flatten()\n",
    "        # 6 links per 6 regions (frames), 18 candidates per region\n",
    "        muxed_cands = [[zeropup for i in range(6 * 6)] for j in range(18 * 3)]\n",
    "        # Loop over 'layer 1 boards' (equivalent)\n",
    "        for i in range(6):\n",
    "            # Loop over regions in board\n",
    "            for j in range(18):\n",
    "                # Loop over particles in region\n",
    "                pups_r = pups[18 * i + j]\n",
    "                for k in range(18):\n",
    "                    if k < len(pups_r):\n",
    "                        pup = pups_r[k].toVHex(True)\n",
    "                    else:\n",
    "                        pup = zeropup\n",
    "                    muxed_cands[3 * j + k//6][6 * i + k % 6] = pup\n",
    "        for i, f in enumerate(muxed_cands):\n",
    "            yield frame(f, startframe+i, 36)\n",
    "            \n",
    "class Particle:\n",
    "    def __init__(self, pt, eta, phi, hexdata=None):\n",
    "        if hexdata is not None:\n",
    "            if isinstance(hexdata, str):\n",
    "                d = bitstring.pack(hexdata)\n",
    "            elif isinstance(hexdata, int):\n",
    "                d = bitstring.pack('int:64', hexdata)\n",
    "            pt = d[0:15].uint / 4\n",
    "            eta = d[16:25].uint / 10\n",
    "            phi = d[26:35].uint / 10\n",
    "        self.pt = pt\n",
    "        self.eta = eta\n",
    "        self.phi = phi\n",
    "        \n",
    "    def __str__(self):\n",
    "        return \"Particle({}, {}, {})\".format(self.pt, self.eta, self.phi)\n",
    "    \n",
    "    def __repr__(self):\n",
    "        return self.__str__()\n",
    "    \n",
    "    def iRegion(self, regions):\n",
    "        return regions.iRegion(self)\n",
    "        \n",
    "    def fromUproot(pt_jagged, eta_jagged, phi_jagged, ptcut=None, pclass=None):\n",
    "        if pclass is None:\n",
    "            pclass = Particle\n",
    "        events = []\n",
    "        for pti, etai, phii in zip(pt_jagged, eta_jagged, phi_jagged):\n",
    "            event = []\n",
    "            for ptij, etaij, phiij in zip(pti, etai, phii):\n",
    "                particle = pclass(ptij, etaij, phiij)\n",
    "                if ptcut is None:\n",
    "                    event.append(particle)\n",
    "                elif particle.pt > ptcut:\n",
    "                    event.append(particle)\n",
    "            events.append(event)\n",
    "        return events\n",
    "    \n",
    "class PuppiCand(Particle):\n",
    "          \n",
    "    def __str__(self):\n",
    "        return super().__str__().replace('Particle', 'PuppiCand')\n",
    "    \n",
    "    def fromUproot(pt_jagged, eta_jagged, phi_jagged, ptcut=None):\n",
    "        return Particle.fromUproot(pt_jagged, eta_jagged, phi_jagged, ptcut, PuppiCand)\n",
    "    \n",
    "    def pack_event_hr(pups):\n",
    "        template = \"   cand pt     {} eta {:04.2f} phi {:04.2f}  id 0\\n\"\n",
    "        for pup in pups:\n",
    "            yield template.format(pup.pt, pup.eta, pup.phi)\n",
    "    \n",
    "    def pt(self):\n",
    "        return self.pt\n",
    "    \n",
    "    def pack(self):\n",
    "        eta = int(self.eta * 100)\n",
    "        phi = int(self.phi * 100)\n",
    "        pt = int(self.pt * 4)\n",
    "        v = int(pt > 0)\n",
    "        bs = bitstring.pack('uint:1,uint:27,int:10,int:10,uint:16',v,0,phi,eta,pt)\n",
    "        return bs.hex\n",
    "    \n",
    "    def toVHex(self, valid):\n",
    "        return str(int(valid)) + 'v' + self.pack()\n",
    "    \n",
    "class Jet(Particle):\n",
    "            \n",
    "    def __str__(self):\n",
    "        return super().__str__().replace('Particle', 'Jet')\n",
    "    \n",
    "    def fromUproot(pt_jagged, eta_jagged, phi_jagged, ptcut=None):\n",
    "        return Particle.fromUproot(pt_jagged, eta_jagged, phi_jagged, ptcut, Jet)\n",
    "    \n",
    "    def pack_event_hr(pups):\n",
    "        template = \"   jet pt      {} eta {:04.2f} phi {:04.2f}  constituents 0\\n\"\n",
    "        for pup in pups:\n",
    "            yield template.format(pup.pt, pup.eta, pup.phi)\n",
    "            \n",
    "def write_event_hr(f, pups, jets):\n",
    "    f.write(\"Event with {} candidates, {} jets in the selected region\\n\".format(len(pups), len(jets)))\n",
    "    for pup in PuppiCand.pack_event_hr(pups):\n",
    "        f.write(pup)\n",
    "    for jet in Jet.pack_event_hr(jets):\n",
    "        f.write(jet)\n",
    "    f.write(\"\\n\")"
   ]
  },
  {
   "cell_type": "code",
   "execution_count": 3,
   "metadata": {},
   "outputs": [],
   "source": [
    "def header(nlinks, board='JETS'):\n",
    "    txt = 'Board {}\\n'.format(board)\n",
    "    txt += ' Quad/Chan :'\n",
    "    for i in range(nlinks):\n",
    "        quadstr = '        q{:02d}c{}      '.format(int(i/4), int(i%4))\n",
    "        txt += quadstr\n",
    "    txt += '\\n      Link :'\n",
    "    for i in range(nlinks):\n",
    "        txt += '         {:03d}       '.format(i)\n",
    "    txt += '\\n'\n",
    "    return txt\n",
    "\n",
    "def frame(vhexdata, iframe, nlinks):\n",
    "    assert(len(vhexdata) == nlinks), \"Data length doesn't match expected number of links\"\n",
    "    txt = 'Frame {:04d} :'.format(iframe)\n",
    "    for d in vhexdata:\n",
    "        txt += ' ' + d\n",
    "    txt += '\\n'\n",
    "    return txt\n",
    "\n",
    "def empty_frames(n, istart, nlinks):\n",
    "    ''' Make n empty frames for nlinks with starting frame number istart '''\n",
    "    empty_data = '0v0000000000000000'\n",
    "    empty_frame = [empty_data] * nlinks\n",
    "    iframe = istart\n",
    "    frames = []\n",
    "    for i in range(n):\n",
    "        frames.append(frame(empty_frame, iframe, nlinks))\n",
    "        iframe += 1\n",
    "    return frames"
   ]
  },
  {
   "cell_type": "markdown",
   "metadata": {},
   "source": [
    "## Read the ntuple"
   ]
  },
  {
   "cell_type": "code",
   "execution_count": 4,
   "metadata": {},
   "outputs": [],
   "source": [
    "#d = uproot.open('/home/sioni/Work/jets/debugPF_TTbar_PU200.106X_v0.root')['Events']\n",
    "d = uproot.open('/home/sioni/Work/corrl2-dev-emp/src/GlobalCorrelator/emp_examples/Layer2/testbench/jet/debugPF.root')['Events']\n",
    "\n",
    "# Extract Pups\n",
    "pups = d['l1tPFCandidates_l1pfCandidates_Puppi_RESP.']['l1tPFCandidates_l1pfCandidates_Puppi_RESP.obj']\n",
    "pt = pups['l1tPFCandidates_l1pfCandidates_Puppi_RESP.obj.m_state.p4Polar_.fCoordinates.fPt'].array()\n",
    "eta = pups['l1tPFCandidates_l1pfCandidates_Puppi_RESP.obj.m_state.p4Polar_.fCoordinates.fEta'].array()\n",
    "phi = pups['l1tPFCandidates_l1pfCandidates_Puppi_RESP.obj.m_state.p4Polar_.fCoordinates.fPhi'].array()\n",
    "pups = PuppiCand.fromUproot(pt, eta, phi, 0)\n",
    "\n",
    "# Extract Jets\n",
    "jets = d['l1tPFJets_l1PFSeedConeL1Puppi__RESP.']['l1tPFJets_l1PFSeedConeL1Puppi__RESP.obj']\n",
    "pt = jets['l1tPFJets_l1PFSeedConeL1Puppi__RESP.obj.m_state.p4Polar_.fCoordinates.fPt'].array()\n",
    "eta = jets['l1tPFJets_l1PFSeedConeL1Puppi__RESP.obj.m_state.p4Polar_.fCoordinates.fEta'].array()\n",
    "phi = jets['l1tPFJets_l1PFSeedConeL1Puppi__RESP.obj.m_state.p4Polar_.fCoordinates.fPhi'].array()\n",
    "jets = Jet.fromUproot(pt, eta, phi, 5)\n",
    "\n",
    "regions = DemoRegions()"
   ]
  },
  {
   "cell_type": "markdown",
   "metadata": {},
   "source": [
    "## Write an emp-fwk pattern file"
   ]
  },
  {
   "cell_type": "code",
   "execution_count": 5,
   "metadata": {},
   "outputs": [],
   "source": [
    "f = open('source.txt', 'w')\n",
    "iframe = 0\n",
    "f.write(header(6*16))\n",
    "for d in empty_frames(6, iframe, 6 * 16):\n",
    "    f.write(d)\n",
    "iframe += 6\n",
    "for i in range(100):\n",
    "    for d in regions.pack_event(pups[i], startframe=iframe, mux=False):\n",
    "        f.write(d)\n",
    "    iframe += 18\n",
    "    # Inter-event empty frames\n",
    "    for d in empty_frames(240, iframe, 6 * 16):\n",
    "        f.write(d)\n",
    "    iframe += 240\n",
    "f.close()"
   ]
  },
  {
   "cell_type": "markdown",
   "metadata": {},
   "source": [
    "## Write an HLS simulation input file"
   ]
  },
  {
   "cell_type": "code",
   "execution_count": 6,
   "metadata": {},
   "outputs": [],
   "source": [
    "f = open('source_hr.txt', 'w')\n",
    "write_event_hr(f, pups[0], jets[0])\n",
    "f.close()"
   ]
  },
  {
   "cell_type": "markdown",
   "metadata": {},
   "source": [
    "## Debug space"
   ]
  },
  {
   "cell_type": "markdown",
   "metadata": {},
   "source": [
    "### Check the deregionizer"
   ]
  },
  {
   "cell_type": "code",
   "execution_count": 7,
   "metadata": {},
   "outputs": [],
   "source": [
    "regionizer_in = pandas.read_csv('../../../../../../proj/jet_sim/Regionizer-Inputs.txt', skiprows=1, delim_whitespace=True)\n",
    "pups_in = [PuppiCand(pt/4,eta/100,phi/100) for (pt,eta,phi) in zip(regionizer_in.pt, regionizer_in.eta, regionizer_in.phi)]\n",
    "\n",
    "regionparticles = pandas.read_csv('../../../../../../proj/jet_sim/Regionizer-EventParticles.txt', skiprows=1, delim_whitespace=True)\n",
    "#regionparticles = regionparticles[regionparticles.Clock==56]\n",
    "#pups_merged = [PuppiCand(pt/4,eta/100,phi/100) for (pt,eta,phi) in zip(regionparticles.pt, regionparticles.eta, regionparticles.phi)]\n",
    "def get_deregionizer(regionparticles, clock):\n",
    "    rp = regionparticles[regionparticles.Clock == clock]\n",
    "    return [PuppiCand(pt/4,eta/100,phi/100) for (pt,eta,phi) in zip(rp.pt, rp.eta, rp.phi)]"
   ]
  },
  {
   "cell_type": "markdown",
   "metadata": {},
   "source": [
    "### Check the jets"
   ]
  },
  {
   "cell_type": "code",
   "execution_count": 8,
   "metadata": {},
   "outputs": [],
   "source": [
    "jets_p = pandas.read_csv('../../../../../../proj/jet_sim/Jets.txt', skiprows=1, delim_whitespace=True)"
   ]
  },
  {
   "cell_type": "code",
   "execution_count": 9,
   "metadata": {},
   "outputs": [],
   "source": [
    "jets_msim = []\n",
    "for c in jets_p.Clock.unique():\n",
    "    j = jets_p[jets_p.Clock == c]\n",
    "    jets_msim.append([Jet(pt/4,eta/100,phi/100) for (pt,eta,phi) in zip(j.pt, j.eta, j.phi)])"
   ]
  },
  {
   "cell_type": "markdown",
   "metadata": {},
   "source": [
    "## Some plots"
   ]
  },
  {
   "cell_type": "code",
   "execution_count": 10,
   "metadata": {},
   "outputs": [],
   "source": [
    "sim_pt = [j.pt for ev in jets_msim for j in ev]\n",
    "sim_eta = [j.eta for ev in jets_msim for j in ev]\n",
    "sim_phi = [j.phi for ev in jets_msim for j in ev]\n",
    "pt = [j.pt for ev in jets[:100] for j in ev]\n",
    "eta = [j.eta for ev in jets[:100] for j in ev]\n",
    "phi = [j.phi for ev in jets[:100] for j in ev]"
   ]
  },
  {
   "cell_type": "code",
   "execution_count": 11,
   "metadata": {},
   "outputs": [
    {
     "data": {
      "image/png": "[encoded data removed]",
      "text/plain": [
       "<Figure size 432x288 with 1 Axes>"
      ]
     },
     "metadata": {
      "needs_background": "light"
     },
     "output_type": "display_data"
    }
   ],
   "source": [
    "pt_lim = max(max(sim_pt), max(pt))\n",
    "bins = np.linspace(0, pt_lim, 75)\n",
    "w = bins[1] - bins[0]\n",
    "h_sim, b = np.histogram(sim_pt, bins=bins)\n",
    "h, b = np.histogram(pt, bins=bins)\n",
    "plt.bar(bins[:-1]+w/2, h, width=w, label='CMSSW float', alpha=0.5)\n",
    "plt.bar(bins[:-1]+w/2, h_sim, width=w, label='FW Modelsim', alpha=0.5)\n",
    "plt.semilogy()\n",
    "plt.xlabel('pT / GeV')\n",
    "plt.ylabel('N jets')\n",
    "plt.xlim((0, pt_lim))\n",
    "plt.legend()\n",
    "plt.savefig('pt.pdf')"
   ]
  },
  {
   "cell_type": "code",
   "execution_count": 12,
   "metadata": {},
   "outputs": [
    {
     "data": {
      "image/png": "[encoded data removed]",
      "text/plain": [
       "<Figure size 432x288 with 1 Axes>"
      ]
     },
     "metadata": {
      "needs_background": "light"
     },
     "output_type": "display_data"
    }
   ],
   "source": [
    "bins = np.linspace(-3.14, 3.14, 50)\n",
    "w = bins[1] - bins[0]\n",
    "h_sim, b = np.histogram(sim_phi, bins=bins)\n",
    "h, b = np.histogram(phi, bins=bins)\n",
    "plt.bar(bins[:-1]+w/2, h, width=w, label='CMSSW float', alpha=0.5)\n",
    "plt.bar(bins[:-1]+w/2, h_sim, width=w, label='FW Modelsim', alpha=0.5)\n",
    "plt.semilogy()\n",
    "plt.xlabel('phi')\n",
    "plt.ylabel('N jets')\n",
    "plt.xlim((-3.14, 3.14))\n",
    "plt.legend()\n",
    "plt.savefig('phi.pdf')"
   ]
  },
  {
   "cell_type": "code",
   "execution_count": 13,
   "metadata": {},
   "outputs": [
    {
     "data": {
      "image/png": "[encoded data removed]",
      "text/plain": [
       "<Figure size 432x288 with 1 Axes>"
      ]
     },
     "metadata": {
      "needs_background": "light"
     },
     "output_type": "display_data"
    }
   ],
   "source": [
    "bins = np.linspace(-5, 5, 50)\n",
    "w = bins[1] - bins[0]\n",
    "h_sim, b = np.histogram(sim_eta, bins=bins)\n",
    "h, b = np.histogram(eta, bins=bins)\n",
    "plt.bar(bins[:-1]+w/2, h, width=w, label='CMSSW float', alpha=0.5)\n",
    "plt.bar(bins[:-1]+w/2, h_sim, width=w, label='FW Modelsim', alpha=0.5)\n",
    "plt.semilogy()\n",
    "plt.xlabel('eta')\n",
    "plt.ylabel('N jets')\n",
    "plt.xlim((-5, 5))\n",
    "plt.legend()\n",
    "plt.savefig('eta.pdf')"
   ]
  },
  {
   "cell_type": "code",
   "execution_count": null,
   "metadata": {},
   "outputs": [],
   "source": []
  }
 ],
 "metadata": {
  "kernelspec": {
   "display_name": "Python 3",
   "language": "python",
   "name": "python3"
  },
  "language_info": {
   "codemirror_mode": {
    "name": "ipython",
    "version": 3
   },
   "file_extension": ".py",
   "mimetype": "text/x-python",
   "name": "python",
   "nbconvert_exporter": "python",
   "pygments_lexer": "ipython3",
   "version": "3.6.10"
  }
 },
 "nbformat": 4,
 "nbformat_minor": 4
}
