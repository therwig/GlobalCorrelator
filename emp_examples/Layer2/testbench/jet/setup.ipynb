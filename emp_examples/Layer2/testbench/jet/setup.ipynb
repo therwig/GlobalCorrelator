{
 "cells": [
  {
   "cell_type": "code",
   "execution_count": 1,
   "metadata": {},
   "outputs": [],
   "source": [
    "import uproot\n",
    "import numpy as np\n",
    "import bitstring\n",
    "import pandas"
   ]
  },
  {
   "cell_type": "code",
   "execution_count": 2,
   "metadata": {},
   "outputs": [],
   "source": [
    "class Regions:\n",
    "    '''A simplistic region maker (not realistic)'''\n",
    "    def __init__(self, eta_max, n_eta, n_phi):\n",
    "        self.phi = np.linspace(-np.pi, np.pi, n_phi)\n",
    "        self.eta = np.linspace(-eta_max, eta_max, n_eta)\n",
    "        \n",
    "    def iRegion(self, cand):\n",
    "        '''Get the (iEta, iPhi) of the candidate'''\n",
    "        iPhi = np.argwhere((cand.phi >= self.phi) & (cand.phi < np.roll(self.phi, -1)))[0][0]\n",
    "        iEta = np.argwhere((cand.eta >= self.eta) & (cand.eta < np.roll(self.eta, -1)))[0][0]\n",
    "        return (iEta, iPhi) \n",
    "    \n",
    "    def regionize(self, event_candidates, sort=True):\n",
    "        '''Get the particles within the regions'''\n",
    "        region_candidates = [[[] for i in range(len(self.phi))] for j in range(len(self.eta))]\n",
    "        for candidate in event_candidates:\n",
    "            iEta, iPhi = self.iRegion(candidate)\n",
    "            region_candidates[iEta][iPhi].append(candidate)\n",
    "        if sort:\n",
    "            for iEta, regions_eta in enumerate(region_candidates):\n",
    "                for iPhi, region in enumerate(regions_eta):\n",
    "                    region_candidates[iEta][iPhi] = sorted(region, key=PuppiCand.pt)\n",
    "        return region_candidates\n",
    "\n",
    "class DemoRegions(Regions):\n",
    "    '''An extension of the Regions class closer to the 6 board correlator demonstrator'''\n",
    "    def __init__(self):\n",
    "        super().__init__(3.5, 12, 9)\n",
    "        \n",
    "    def pack_event(self, pups, startframe=0, mux=False):\n",
    "        return self.pack_event_mux(pups, startframe) if mux else \\\n",
    "               self.pack_event_nomux(pups, startframe)\n",
    "        \n",
    "    def pack_event_nomux(self, pups, startframe=0):\n",
    "        '''Return frames of a PatternFile for the unregionized event pups.\n",
    "        Doesn't treate the regions in a specific order, just groups them in appropriate numbers.'''\n",
    "        zeropup = PuppiCand(0,0,0).toVHex(True)\n",
    "        pups = np.array(self.regionize(pups, sort=True)).flatten()\n",
    "        # 18 links per 6 regions (frames), 16 candidates per region\n",
    "        # 20 appears because of the link_map SLR handling\n",
    "        muxed_cands = [[0 for i in range(6 * 16)] for j in range(18)]\n",
    "        # Loop over 'layer 1 boards' (equivalent)\n",
    "        for i in range(6):\n",
    "            # Loop over regions in board\n",
    "            for j in range(18):\n",
    "                # Loop over particles in region\n",
    "                pups_r = pups[18 * i + j]\n",
    "                for k in range(16):\n",
    "                    if k < len(pups_r):\n",
    "                        pup = pups_r[k].toVHex(True)\n",
    "                    else:\n",
    "                        pup = zeropup\n",
    "                    muxed_cands[j][16 * i + k] = pup\n",
    "        for i, f in enumerate(muxed_cands):\n",
    "            yield frame(f, startframe+i, 6*16)\n",
    "        \n",
    "    def pack_event_mux(self, pups, startframe=0):\n",
    "        '''Return frames of a PatternFile for the unregionized event pups.\n",
    "           Doesn't treate the regions in a specific order, just groups them in appropriate numbers.\n",
    "           Muxes 18 particles per region into 6 links over 3 frames'''\n",
    "        zeropup = PuppiCand(0,0,0).toVHex(True)\n",
    "        pups = np.array(self.regionize(pups, sort=True)).flatten()\n",
    "        # 6 links per 6 regions (frames), 18 candidates per region\n",
    "        muxed_cands = [[zeropup for i in range(6 * 6)] for j in range(18 * 3)]\n",
    "        # Loop over 'layer 1 boards' (equivalent)\n",
    "        for i in range(6):\n",
    "            # Loop over regions in board\n",
    "            for j in range(18):\n",
    "                # Loop over particles in region\n",
    "                pups_r = pups[18 * i + j]\n",
    "                for k in range(18):\n",
    "                    if k < len(pups_r):\n",
    "                        pup = pups_r[k].toVHex(True)\n",
    "                    else:\n",
    "                        pup = zeropup\n",
    "                    muxed_cands[3 * j + k//6][6 * i + k % 6] = pup\n",
    "        for i, f in enumerate(muxed_cands):\n",
    "            yield frame(f, startframe+i, 36)\n",
    "            \n",
    "class Particle:\n",
    "    def __init__(self, pt, eta, phi, hexdata=None):\n",
    "        if hexdata is not None:\n",
    "            if isinstance(hexdata, str):\n",
    "                d = bitstring.pack(hexdata)\n",
    "            elif isinstance(hexdata, int):\n",
    "                d = bitstring.pack('int:64', hexdata)\n",
    "            pt = d[0:15].uint / 4\n",
    "            eta = d[16:25].uint / 10\n",
    "            phi = d[26:35].uint / 10\n",
    "        self.pt = pt\n",
    "        self.eta = eta\n",
    "        self.phi = phi\n",
    "        \n",
    "    def __str__(self):\n",
    "        return \"Particle({}, {}, {})\".format(self.pt, self.eta, self.phi)\n",
    "    \n",
    "    def __repr__(self):\n",
    "        return self.__str__()\n",
    "    \n",
    "    def iRegion(self, regions):\n",
    "        return regions.iRegion(self)\n",
    "        \n",
    "    def fromUproot(pt_jagged, eta_jagged, phi_jagged, ptcut=None, pclass=None):\n",
    "        if pclass is None:\n",
    "            pclass = Particle\n",
    "        events = []\n",
    "        for pti, etai, phii in zip(pt_jagged, eta_jagged, phi_jagged):\n",
    "            event = []\n",
    "            for ptij, etaij, phiij in zip(pti, etai, phii):\n",
    "                particle = pclass(ptij, etaij, phiij)\n",
    "                if ptcut is None:\n",
    "                    event.append(particle)\n",
    "                elif particle.pt > ptcut:\n",
    "                    event.append(particle)\n",
    "            events.append(event)\n",
    "        return events\n",
    "    \n",
    "class PuppiCand(Particle):\n",
    "          \n",
    "    def __str__(self):\n",
    "        return super().__str__().replace('Particle', 'PuppiCand')\n",
    "    \n",
    "    def fromUproot(pt_jagged, eta_jagged, phi_jagged, ptcut=None):\n",
    "        return Particle.fromUproot(pt_jagged, eta_jagged, phi_jagged, ptcut, PuppiCand)\n",
    "    \n",
    "    def pack_event_hr(pups):\n",
    "        template = \"   cand pt     {} eta {:04.2f} phi {:04.2f}  id 0\\n\"\n",
    "        for pup in pups:\n",
    "            yield template.format(pup.pt, pup.eta, pup.phi)\n",
    "    \n",
    "    def pt(self):\n",
    "        return self.pt\n",
    "    \n",
    "    def pack(self):\n",
    "        eta = int(self.eta * 100)\n",
    "        phi = int(self.phi * 100)\n",
    "        pt = int(self.pt * 4)\n",
    "        v = int(pt > 0)\n",
    "        bs = bitstring.pack('uint:1,uint:27,int:10,int:10,uint:16',v,0,phi,eta,pt)\n",
    "        return bs.hex\n",
    "    \n",
    "    def toVHex(self, valid):\n",
    "        return str(int(valid)) + 'v' + self.pack()\n",
    "    \n",
    "class Jet(Particle):\n",
    "            \n",
    "    def __str__(self):\n",
    "        return super().__str__().replace('Particle', 'Jet')\n",
    "    \n",
    "    def fromUproot(pt_jagged, eta_jagged, phi_jagged, ptcut=None):\n",
    "        return Particle.fromUproot(pt_jagged, eta_jagged, phi_jagged, ptcut, Jet)\n",
    "    \n",
    "    def pack_event_hr(pups):\n",
    "        template = \"   jet pt      {} eta {:04.2f} phi {:04.2f}  constituents 0\\n\"\n",
    "        for pup in pups:\n",
    "            yield template.format(pup.pt, pup.eta, pup.phi)\n",
    "            \n",
    "def write_event_hr(f, pups, jets):\n",
    "    f.write(\"Event with {} candidates, {} jets in the selected region\\n\".format(len(pups), len(jets)))\n",
    "    for pup in PuppiCand.pack_event_hr(pups):\n",
    "        f.write(pup)\n",
    "    for jet in Jet.pack_event_hr(jets):\n",
    "        f.write(jet)\n",
    "    f.write(\"\\n\")"
   ]
  },
  {
   "cell_type": "code",
   "execution_count": 3,
   "metadata": {},
   "outputs": [],
   "source": [
    "def header(nlinks, board='JETS'):\n",
    "    txt = 'Board {}\\n'.format(board)\n",
    "    txt += ' Quad/Chan :'\n",
    "    for i in range(nlinks):\n",
    "        quadstr = '        q{:02d}c{}      '.format(int(i/4), int(i%4))\n",
    "        txt += quadstr\n",
    "    txt += '\\n      Link :'\n",
    "    for i in range(nlinks):\n",
    "        txt += '         {:03d}       '.format(i)\n",
    "    txt += '\\n'\n",
    "    return txt\n",
    "\n",
    "def frame(vhexdata, iframe, nlinks):\n",
    "    assert(len(vhexdata) == nlinks), \"Data length doesn't match expected number of links\"\n",
    "    txt = 'Frame {:04d} :'.format(iframe)\n",
    "    for d in vhexdata:\n",
    "        txt += ' ' + d\n",
    "    txt += '\\n'\n",
    "    return txt\n",
    "\n",
    "def empty_frames(n, istart, nlinks):\n",
    "    ''' Make n empty frames for nlinks with starting frame number istart '''\n",
    "    empty_data = '0v0000000000000000'\n",
    "    empty_frame = [empty_data] * nlinks\n",
    "    iframe = istart\n",
    "    frames = []\n",
    "    for i in range(n):\n",
    "        frames.append(frame(empty_frame, iframe, nlinks))\n",
    "        iframe += 1\n",
    "    return frames"
   ]
  },
  {
   "cell_type": "markdown",
   "metadata": {},
   "source": [
    "## Read the ntuple"
   ]
  },
  {
   "cell_type": "code",
   "execution_count": 11,
   "metadata": {},
   "outputs": [],
   "source": [
    "#d = uproot.open('/home/sioni/Work/jets/debugPF_TTbar_PU200.106X_v0.root')['Events']\n",
    "d = uproot.open('/home/sioni/Work/corrl2-dev-emp/src/GlobalCorrelator/emp_examples/Layer2/testbench/jet/debugPF.root')['Events']\n",
    "\n",
    "# Extract Pups\n",
    "pups = d['l1tPFCandidates_l1pfCandidates_Puppi_RESP.']['l1tPFCandidates_l1pfCandidates_Puppi_RESP.obj']\n",
    "pt = pups['l1tPFCandidates_l1pfCandidates_Puppi_RESP.obj.m_state.p4Polar_.fCoordinates.fPt'].array()\n",
    "eta = pups['l1tPFCandidates_l1pfCandidates_Puppi_RESP.obj.m_state.p4Polar_.fCoordinates.fEta'].array()\n",
    "phi = pups['l1tPFCandidates_l1pfCandidates_Puppi_RESP.obj.m_state.p4Polar_.fCoordinates.fPhi'].array()\n",
    "pups = PuppiCand.fromUproot(pt, eta, phi, 0)\n",
    "\n",
    "# Extract Jets\n",
    "jets = d['l1tPFJets_l1PFSeedConeL1Puppi__RESP.']['l1tPFJets_l1PFSeedConeL1Puppi__RESP.obj']\n",
    "pt = jets['l1tPFJets_l1PFSeedConeL1Puppi__RESP.obj.m_state.p4Polar_.fCoordinates.fPt'].array()\n",
    "eta = jets['l1tPFJets_l1PFSeedConeL1Puppi__RESP.obj.m_state.p4Polar_.fCoordinates.fEta'].array()\n",
    "phi = jets['l1tPFJets_l1PFSeedConeL1Puppi__RESP.obj.m_state.p4Polar_.fCoordinates.fPhi'].array()\n",
    "jets = Jet.fromUproot(pt, eta, phi, 5)\n",
    "\n",
    "regions = DemoRegions()"
   ]
  },
  {
   "cell_type": "markdown",
   "metadata": {},
   "source": [
    "## Write an emp-fwk pattern file"
   ]
  },
  {
   "cell_type": "code",
   "execution_count": 13,
   "metadata": {},
   "outputs": [],
   "source": [
    "f = open('source.txt', 'w')\n",
    "f.write(header(6*16))\n",
    "for d in empty_frames(6, 0, 6 * 16):\n",
    "    f.write(d)\n",
    "for d in regions.pack_event(pups[0], startframe=6, mux=False):\n",
    "    f.write(d)\n",
    "for d in empty_frames(6, 0+6+18, 6 * 16):\n",
    "    f.write(d)"
   ]
  },
  {
   "cell_type": "markdown",
   "metadata": {},
   "source": [
    "## Write an HLS simulation input file"
   ]
  },
  {
   "cell_type": "code",
   "execution_count": 12,
   "metadata": {},
   "outputs": [],
   "source": [
    "f = open('source_hr.txt', 'w')\n",
    "write_event_hr(f, pups[0], jets[0])\n",
    "f.close()"
   ]
  },
  {
   "cell_type": "markdown",
   "metadata": {},
   "source": [
    "## Debug space"
   ]
  },
  {
   "cell_type": "markdown",
   "metadata": {},
   "source": [
    "### Check the deregionizer"
   ]
  },
  {
   "cell_type": "code",
   "execution_count": null,
   "metadata": {},
   "outputs": [],
   "source": [
    "regionizer_in = pandas.read_csv('../../../../../../proj/jet_sim/Regionizer-Inputs.txt', skiprows=1, delim_whitespace=True)\n",
    "pups_in = [PuppiCand(pt/4,eta/100,phi/100) for (pt,eta,phi) in zip(regionizer_in.pt, regionizer_in.eta, regionizer_in.phi)]\n",
    "\n",
    "regionparticles = pandas.read_csv('../../../../../../proj/jet_sim/Regionizer-EventParticles.txt', skiprows=1, delim_whitespace=True)\n",
    "regionparticles = regionparticles[regionparticles.Clock==56]\n",
    "pups_merged = [PuppiCand(pt/4,eta/100,phi/100) for (pt,eta,phi) in zip(regionparticles.pt, regionparticles.eta, regionparticles.phi)]"
   ]
  },
  {
   "cell_type": "markdown",
   "metadata": {},
   "source": [
    "### Check the jets"
   ]
  },
  {
   "cell_type": "code",
   "execution_count": 14,
   "metadata": {},
   "outputs": [],
   "source": [
    "jets_p = pandas.read_csv('../../../../../../proj/jet_sim/Jets.txt', skiprows=1, delim_whitespace=True)"
   ]
  },
  {
   "cell_type": "code",
   "execution_count": 15,
   "metadata": {},
   "outputs": [],
   "source": [
    "jets_p = jets_p[jets_p.Clock == 236]"
   ]
  },
  {
   "cell_type": "code",
   "execution_count": 16,
   "metadata": {},
   "outputs": [],
   "source": [
    "jets_p = [Jet(pt/4,eta/100,phi/100) for (pt,eta,phi) in zip(jets_p.pt, jets_p.eta, jets_p.phi)]"
   ]
  },
  {
   "cell_type": "code",
   "execution_count": 17,
   "metadata": {},
   "outputs": [
    {
     "data": {
      "text/plain": [
       "[Jet(207.5, -0.43, 2.29),\n",
       " Jet(187.25, -0.35, -0.3),\n",
       " Jet(74.25, 0.55, -1.65),\n",
       " Jet(58.25, -0.47, 1.21),\n",
       " Jet(41.25, -1.56, 2.47),\n",
       " Jet(34.0, -1.63, -1.23),\n",
       " Jet(30.75, 0.16, -1.79),\n",
       " Jet(5.25, -1.5, 0.29)]"
      ]
     },
     "execution_count": 17,
     "metadata": {},
     "output_type": "execute_result"
    }
   ],
   "source": [
    "jets_p"
   ]
  },
  {
   "cell_type": "code",
   "execution_count": 18,
   "metadata": {},
   "outputs": [
    {
     "data": {
      "text/plain": [
       "[Jet(207.5, -0.4297322928905487, 2.287867784500122),\n",
       " Jet(184.75, -0.3465495705604553, -0.3031064569950104),\n",
       " Jet(74.25, 0.5565542578697205, -1.7466663122177124),\n",
       " Jet(58.25, -0.47186753153800964, 1.1526070833206177),\n",
       " Jet(45.5, -1.6351765394210815, -1.213121771812439),\n",
       " Jet(30.75, 0.16418975591659546, -1.8553426265716553),\n",
       " Jet(29.75, -1.5189815759658813, 2.34698486328125),\n",
       " Jet(5.25, -1.5089000463485718, 0.29120001196861267)]"
      ]
     },
     "execution_count": 18,
     "metadata": {},
     "output_type": "execute_result"
    }
   ],
   "source": [
    "jets[0]"
   ]
  },
  {
   "cell_type": "code",
   "execution_count": null,
   "metadata": {},
   "outputs": [],
   "source": []
  }
 ],
 "metadata": {
  "kernelspec": {
   "display_name": "Python 3",
   "language": "python",
   "name": "python3"
  },
  "language_info": {
   "codemirror_mode": {
    "name": "ipython",
    "version": 3
   },
   "file_extension": ".py",
   "mimetype": "text/x-python",
   "name": "python",
   "nbconvert_exporter": "python",
   "pygments_lexer": "ipython3",
   "version": "3.6.10"
  }
 },
 "nbformat": 4,
 "nbformat_minor": 4
}
